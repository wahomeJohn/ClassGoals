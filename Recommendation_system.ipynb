{
  "nbformat": 4,
  "nbformat_minor": 0,
  "metadata": {
    "colab": {
      "name": "Recommendation_system.ipynb",
      "provenance": [],
      "authorship_tag": "ABX9TyPRCvfAMjtq/Kp0VijbgZvS",
      "include_colab_link": true
    },
    "kernelspec": {
      "name": "python3",
      "display_name": "Python 3"
    },
    "language_info": {
      "name": "python"
    }
  },
  "cells": [
    {
      "cell_type": "markdown",
      "metadata": {
        "id": "view-in-github",
        "colab_type": "text"
      },
      "source": [
        "<a href=\"https://colab.research.google.com/github/wahomeJohn/ClassGoals/blob/main/Recommendation_system.ipynb\" target=\"_parent\"><img src=\"https://colab.research.google.com/assets/colab-badge.svg\" alt=\"Open In Colab\"/></a>"
      ]
    },
    {
      "cell_type": "markdown",
      "metadata": {
        "id": "WBHcuoFrW5TN"
      },
      "source": [
        "Importing  libraries"
      ]
    },
    {
      "cell_type": "code",
      "metadata": {
        "colab": {
          "base_uri": "https://localhost:8080/"
        },
        "id": "Pn1DbV5oXRKO",
        "outputId": "b4f680c4-a533-4443-97c8-58354036c61d"
      },
      "source": [
        "!pip install surprise"
      ],
      "execution_count": 2,
      "outputs": [
        {
          "output_type": "stream",
          "name": "stdout",
          "text": [
            "Collecting surprise\n",
            "  Downloading surprise-0.1-py2.py3-none-any.whl (1.8 kB)\n",
            "Collecting scikit-surprise\n",
            "  Downloading scikit-surprise-1.1.1.tar.gz (11.8 MB)\n",
            "\u001b[K     |████████████████████████████████| 11.8 MB 26.0 MB/s \n",
            "\u001b[?25hRequirement already satisfied: joblib>=0.11 in /usr/local/lib/python3.7/dist-packages (from scikit-surprise->surprise) (1.1.0)\n",
            "Requirement already satisfied: numpy>=1.11.2 in /usr/local/lib/python3.7/dist-packages (from scikit-surprise->surprise) (1.19.5)\n",
            "Requirement already satisfied: scipy>=1.0.0 in /usr/local/lib/python3.7/dist-packages (from scikit-surprise->surprise) (1.4.1)\n",
            "Requirement already satisfied: six>=1.10.0 in /usr/local/lib/python3.7/dist-packages (from scikit-surprise->surprise) (1.15.0)\n",
            "Building wheels for collected packages: scikit-surprise\n",
            "  Building wheel for scikit-surprise (setup.py) ... \u001b[?25l\u001b[?25hdone\n",
            "  Created wheel for scikit-surprise: filename=scikit_surprise-1.1.1-cp37-cp37m-linux_x86_64.whl size=1619396 sha256=fd8cfa9862b80540e8de39aa8c8ee1ff26a5d7f7b65aa090381abe77712d17db\n",
            "  Stored in directory: /root/.cache/pip/wheels/76/44/74/b498c42be47b2406bd27994e16c5188e337c657025ab400c1c\n",
            "Successfully built scikit-surprise\n",
            "Installing collected packages: scikit-surprise, surprise\n",
            "Successfully installed scikit-surprise-1.1.1 surprise-0.1\n"
          ]
        }
      ]
    },
    {
      "cell_type": "code",
      "metadata": {
        "id": "EbRQNs_8U4dz"
      },
      "source": [
        "import numpy as np\n",
        "import pandas as pd\n",
        "import matplotlib.pyplot as plt\n",
        "import seaborn as sns\n",
        "%matplotlib inline\n",
        "from surprise import SVD, Reader, Dataset \n",
        "from surprise.model_selection import cross_validate"
      ],
      "execution_count": 3,
      "outputs": []
    },
    {
      "cell_type": "markdown",
      "metadata": {
        "id": "t3_A7913XmJ2"
      },
      "source": [
        "Loading datasets"
      ]
    },
    {
      "cell_type": "code",
      "metadata": {
        "colab": {
          "base_uri": "https://localhost:8080/",
          "height": 202
        },
        "id": "0uNuMWo2Xpjg",
        "outputId": "b2e86f0a-1d32-4b70-8fa3-3f3d4d2a93c5"
      },
      "source": [
        "column_names = ['userId','productId','rating','timestamp']\n",
        "df = pd.read_csv('/content/ratings_Electronics (1).csv',names= column_names)\n",
        "df.head()"
      ],
      "execution_count": 30,
      "outputs": [
        {
          "output_type": "execute_result",
          "data": {
            "text/html": [
              "<div>\n",
              "<style scoped>\n",
              "    .dataframe tbody tr th:only-of-type {\n",
              "        vertical-align: middle;\n",
              "    }\n",
              "\n",
              "    .dataframe tbody tr th {\n",
              "        vertical-align: top;\n",
              "    }\n",
              "\n",
              "    .dataframe thead th {\n",
              "        text-align: right;\n",
              "    }\n",
              "</style>\n",
              "<table border=\"1\" class=\"dataframe\">\n",
              "  <thead>\n",
              "    <tr style=\"text-align: right;\">\n",
              "      <th></th>\n",
              "      <th>userId</th>\n",
              "      <th>productId</th>\n",
              "      <th>rating</th>\n",
              "      <th>timestamp</th>\n",
              "    </tr>\n",
              "  </thead>\n",
              "  <tbody>\n",
              "    <tr>\n",
              "      <th>0</th>\n",
              "      <td>AKM1MP6P0OYPR</td>\n",
              "      <td>0132793040</td>\n",
              "      <td>5.0</td>\n",
              "      <td>1.365811e+09</td>\n",
              "    </tr>\n",
              "    <tr>\n",
              "      <th>1</th>\n",
              "      <td>A2CX7LUOHB2NDG</td>\n",
              "      <td>0321732944</td>\n",
              "      <td>5.0</td>\n",
              "      <td>1.341101e+09</td>\n",
              "    </tr>\n",
              "    <tr>\n",
              "      <th>2</th>\n",
              "      <td>A2NWSAGRHCP8N5</td>\n",
              "      <td>0439886341</td>\n",
              "      <td>1.0</td>\n",
              "      <td>1.367194e+09</td>\n",
              "    </tr>\n",
              "    <tr>\n",
              "      <th>3</th>\n",
              "      <td>A2WNBOD3WNDNKT</td>\n",
              "      <td>0439886341</td>\n",
              "      <td>3.0</td>\n",
              "      <td>1.374451e+09</td>\n",
              "    </tr>\n",
              "    <tr>\n",
              "      <th>4</th>\n",
              "      <td>A1GI0U4ZRJA8WN</td>\n",
              "      <td>0439886341</td>\n",
              "      <td>1.0</td>\n",
              "      <td>1.334707e+09</td>\n",
              "    </tr>\n",
              "  </tbody>\n",
              "</table>\n",
              "</div>"
            ],
            "text/plain": [
              "           userId   productId  rating     timestamp\n",
              "0   AKM1MP6P0OYPR  0132793040     5.0  1.365811e+09\n",
              "1  A2CX7LUOHB2NDG  0321732944     5.0  1.341101e+09\n",
              "2  A2NWSAGRHCP8N5  0439886341     1.0  1.367194e+09\n",
              "3  A2WNBOD3WNDNKT  0439886341     3.0  1.374451e+09\n",
              "4  A1GI0U4ZRJA8WN  0439886341     1.0  1.334707e+09"
            ]
          },
          "metadata": {},
          "execution_count": 30
        }
      ]
    },
    {
      "cell_type": "code",
      "metadata": {
        "colab": {
          "base_uri": "https://localhost:8080/"
        },
        "id": "c7GASyuQfz7R",
        "outputId": "79b14da5-d994-40d2-fad5-5d43619a75c9"
      },
      "source": [
        "df.info()"
      ],
      "execution_count": 31,
      "outputs": [
        {
          "output_type": "stream",
          "name": "stdout",
          "text": [
            "<class 'pandas.core.frame.DataFrame'>\n",
            "RangeIndex: 1982403 entries, 0 to 1982402\n",
            "Data columns (total 4 columns):\n",
            " #   Column     Dtype  \n",
            "---  ------     -----  \n",
            " 0   userId     object \n",
            " 1   productId  object \n",
            " 2   rating     float64\n",
            " 3   timestamp  float64\n",
            "dtypes: float64(2), object(2)\n",
            "memory usage: 60.5+ MB\n"
          ]
        }
      ]
    },
    {
      "cell_type": "code",
      "metadata": {
        "colab": {
          "base_uri": "https://localhost:8080/"
        },
        "id": "kKCjAhNIf__i",
        "outputId": "9a852081-bf28-4a6e-9c6d-70507c9e2d74"
      },
      "source": [
        "df.shape"
      ],
      "execution_count": 32,
      "outputs": [
        {
          "output_type": "execute_result",
          "data": {
            "text/plain": [
              "(1982403, 4)"
            ]
          },
          "metadata": {},
          "execution_count": 32
        }
      ]
    },
    {
      "cell_type": "code",
      "metadata": {
        "colab": {
          "base_uri": "https://localhost:8080/",
          "height": 294
        },
        "id": "feG5vNYHgGFz",
        "outputId": "c86e3c7a-964e-451a-f30e-4f8334fa4762"
      },
      "source": [
        "df.describe()"
      ],
      "execution_count": 33,
      "outputs": [
        {
          "output_type": "execute_result",
          "data": {
            "text/html": [
              "<div>\n",
              "<style scoped>\n",
              "    .dataframe tbody tr th:only-of-type {\n",
              "        vertical-align: middle;\n",
              "    }\n",
              "\n",
              "    .dataframe tbody tr th {\n",
              "        vertical-align: top;\n",
              "    }\n",
              "\n",
              "    .dataframe thead th {\n",
              "        text-align: right;\n",
              "    }\n",
              "</style>\n",
              "<table border=\"1\" class=\"dataframe\">\n",
              "  <thead>\n",
              "    <tr style=\"text-align: right;\">\n",
              "      <th></th>\n",
              "      <th>rating</th>\n",
              "      <th>timestamp</th>\n",
              "    </tr>\n",
              "  </thead>\n",
              "  <tbody>\n",
              "    <tr>\n",
              "      <th>count</th>\n",
              "      <td>1.982402e+06</td>\n",
              "      <td>1.982402e+06</td>\n",
              "    </tr>\n",
              "    <tr>\n",
              "      <th>mean</th>\n",
              "      <td>3.982455e+00</td>\n",
              "      <td>1.272077e+09</td>\n",
              "    </tr>\n",
              "    <tr>\n",
              "      <th>std</th>\n",
              "      <td>1.396604e+00</td>\n",
              "      <td>9.502348e+07</td>\n",
              "    </tr>\n",
              "    <tr>\n",
              "      <th>min</th>\n",
              "      <td>1.000000e+00</td>\n",
              "      <td>9.127296e+08</td>\n",
              "    </tr>\n",
              "    <tr>\n",
              "      <th>25%</th>\n",
              "      <td>3.000000e+00</td>\n",
              "      <td>1.206922e+09</td>\n",
              "    </tr>\n",
              "    <tr>\n",
              "      <th>50%</th>\n",
              "      <td>5.000000e+00</td>\n",
              "      <td>1.278806e+09</td>\n",
              "    </tr>\n",
              "    <tr>\n",
              "      <th>75%</th>\n",
              "      <td>5.000000e+00</td>\n",
              "      <td>1.358381e+09</td>\n",
              "    </tr>\n",
              "    <tr>\n",
              "      <th>max</th>\n",
              "      <td>5.000000e+00</td>\n",
              "      <td>1.406074e+09</td>\n",
              "    </tr>\n",
              "  </tbody>\n",
              "</table>\n",
              "</div>"
            ],
            "text/plain": [
              "             rating     timestamp\n",
              "count  1.982402e+06  1.982402e+06\n",
              "mean   3.982455e+00  1.272077e+09\n",
              "std    1.396604e+00  9.502348e+07\n",
              "min    1.000000e+00  9.127296e+08\n",
              "25%    3.000000e+00  1.206922e+09\n",
              "50%    5.000000e+00  1.278806e+09\n",
              "75%    5.000000e+00  1.358381e+09\n",
              "max    5.000000e+00  1.406074e+09"
            ]
          },
          "metadata": {},
          "execution_count": 33
        }
      ]
    },
    {
      "cell_type": "code",
      "metadata": {
        "colab": {
          "base_uri": "https://localhost:8080/"
        },
        "id": "mjKoiBDXgLDm",
        "outputId": "662d9010-bc1b-4626-eb6c-70ac85afb61f"
      },
      "source": [
        "df.isnull().sum()"
      ],
      "execution_count": 34,
      "outputs": [
        {
          "output_type": "execute_result",
          "data": {
            "text/plain": [
              "userId       0\n",
              "productId    1\n",
              "rating       1\n",
              "timestamp    1\n",
              "dtype: int64"
            ]
          },
          "metadata": {},
          "execution_count": 34
        }
      ]
    },
    {
      "cell_type": "code",
      "metadata": {
        "id": "eSpBNirYg95f"
      },
      "source": [
        "df1=df.dropna(inplace=True)"
      ],
      "execution_count": 35,
      "outputs": []
    },
    {
      "cell_type": "markdown",
      "metadata": {
        "id": "Icwf0EJjlz7M"
      },
      "source": [
        "Explanatory Analysis"
      ]
    },
    {
      "cell_type": "code",
      "metadata": {
        "colab": {
          "base_uri": "https://localhost:8080/",
          "height": 409
        },
        "id": "EHs5usGNl22l",
        "outputId": "36537158-bfab-4e51-9b66-41d1ad523c78"
      },
      "source": [
        "#First we analyze the number of recorded ratings\n",
        "plt.figure(figsize=(10,6))\n",
        "sns.countplot(x='rating', data=df, palette='winter')\n",
        "plt.xlabel('Rating', fontsize=12)\n",
        "plt.ylabel('Count', fontsize=12)\n",
        "plt.title('Number of Each Rating', fontsize=15)\n",
        "plt.show()"
      ],
      "execution_count": 37,
      "outputs": [
        {
          "output_type": "display_data",
          "data": {
            "image/png": "[encoded data removed]",
            "text/plain": [
              "<Figure size 720x432 with 1 Axes>"
            ]
          },
          "metadata": {
            "needs_background": "light"
          }
        }
      ]
    },
    {
      "cell_type": "code",
      "metadata": {
        "id": "mSAoJYlvmAE4"
      },
      "source": [
        "#We study the distribuition of number of ratings and mean ratings recorded for each product.\n",
        "df_rating=pd.DataFrame({'Number of Rating':df.groupby('productId').count()['rating'], 'Mean Rating':df.groupby('productId').mean()['rating']})"
      ],
      "execution_count": 38,
      "outputs": []
    },
    {
      "cell_type": "code",
      "metadata": {
        "colab": {
          "base_uri": "https://localhost:8080/",
          "height": 233
        },
        "id": "y0jTRi96mQd2",
        "outputId": "d356d01c-57d2-4d75-cd09-59277d8cae5f"
      },
      "source": [
        "df_rating.head()"
      ],
      "execution_count": 39,
      "outputs": [
        {
          "output_type": "execute_result",
          "data": {
            "text/html": [
              "<div>\n",
              "<style scoped>\n",
              "    .dataframe tbody tr th:only-of-type {\n",
              "        vertical-align: middle;\n",
              "    }\n",
              "\n",
              "    .dataframe tbody tr th {\n",
              "        vertical-align: top;\n",
              "    }\n",
              "\n",
              "    .dataframe thead th {\n",
              "        text-align: right;\n",
              "    }\n",
              "</style>\n",
              "<table border=\"1\" class=\"dataframe\">\n",
              "  <thead>\n",
              "    <tr style=\"text-align: right;\">\n",
              "      <th></th>\n",
              "      <th>Number of Rating</th>\n",
              "      <th>Mean Rating</th>\n",
              "    </tr>\n",
              "    <tr>\n",
              "      <th>productId</th>\n",
              "      <th></th>\n",
              "      <th></th>\n",
              "    </tr>\n",
              "  </thead>\n",
              "  <tbody>\n",
              "    <tr>\n",
              "      <th>0132793040</th>\n",
              "      <td>1</td>\n",
              "      <td>5.000000</td>\n",
              "    </tr>\n",
              "    <tr>\n",
              "      <th>0321732944</th>\n",
              "      <td>1</td>\n",
              "      <td>5.000000</td>\n",
              "    </tr>\n",
              "    <tr>\n",
              "      <th>0439886341</th>\n",
              "      <td>3</td>\n",
              "      <td>1.666667</td>\n",
              "    </tr>\n",
              "    <tr>\n",
              "      <th>0511189877</th>\n",
              "      <td>6</td>\n",
              "      <td>4.500000</td>\n",
              "    </tr>\n",
              "    <tr>\n",
              "      <th>0528881469</th>\n",
              "      <td>27</td>\n",
              "      <td>2.851852</td>\n",
              "    </tr>\n",
              "  </tbody>\n",
              "</table>\n",
              "</div>"
            ],
            "text/plain": [
              "            Number of Rating  Mean Rating\n",
              "productId                                \n",
              "0132793040                 1     5.000000\n",
              "0321732944                 1     5.000000\n",
              "0439886341                 3     1.666667\n",
              "0511189877                 6     4.500000\n",
              "0528881469                27     2.851852"
            ]
          },
          "metadata": {},
          "execution_count": 39
        }
      ]
    },
    {
      "cell_type": "code",
      "metadata": {
        "colab": {
          "base_uri": "https://localhost:8080/",
          "height": 409
        },
        "id": "Da12tnm7mncs",
        "outputId": "f1c2e5b1-7cca-4e51-8121-34786e673d23"
      },
      "source": [
        "plt.figure(figsize=(18,6))\n",
        "\n",
        "plt.subplot(1,2,1)\n",
        "plt.hist(x='Number of Rating',data=df_rating,bins=30,color='teal')\n",
        "plt.title('Distribution of Number of Rating', fontsize=15)\n",
        "plt.xlabel('Number of Rating', fontsize=12)\n",
        "plt.ylabel('Frequency', fontsize=12)\n",
        "\n",
        "plt.subplot(1,2,2)\n",
        "plt.hist(x='Mean Rating',data=df_rating,bins=30, color='slateblue')\n",
        "plt.title('Distribution of Mean Rating', fontsize=15)\n",
        "plt.xlabel('Mean Rating', fontsize=12)\n",
        "plt.yticks([])\n",
        "plt.show()"
      ],
      "execution_count": 40,
      "outputs": [
        {
          "output_type": "display_data",
          "data": {
            "image/png": "[encoded data removed]",
            "text/plain": [
              "<Figure size 1296x432 with 2 Axes>"
            ]
          },
          "metadata": {
            "needs_background": "light"
          }
        }
      ]
    },
    {
      "cell_type": "markdown",
      "metadata": {
        "id": "pT_hw8c6m3kg"
      },
      "source": [
        "*From these histograms we can see that most of the number of ratings are between 0 and 1825, and most of the products have a mean rating of 5.*"
      ]
    },
    {
      "cell_type": "code",
      "metadata": {
        "colab": {
          "base_uri": "https://localhost:8080/",
          "height": 529
        },
        "id": "KVR2ZBfenArG",
        "outputId": "11a65538-00ea-4e27-8fa9-5a96d548fb76"
      },
      "source": [
        "#We create a scatter plot to observe the relationship between Number of Rating and Mean Rating.\n",
        "plt.figure(figsize=(8,6))\n",
        "sns.jointplot(x='Number of Rating', y='Mean Rating',data=df_rating,color='r', height=7)\n",
        "plt.suptitle('Mean Rating Versus Number of Rating', fontsize=15, y=0.92)\n",
        "\n",
        "plt.show()"
      ],
      "execution_count": 42,
      "outputs": [
        {
          "output_type": "display_data",
          "data": {
            "text/plain": [
              "<Figure size 576x432 with 0 Axes>"
            ]
          },
          "metadata": {}
        },
        {
          "output_type": "display_data",
          "data": {
            "image/png": "[encoded data removed]",
            "text/plain": [
              "<Figure size 504x504 with 3 Axes>"
            ]
          },
          "metadata": {
            "needs_background": "light"
          }
        }
      ]
    },
    {
      "cell_type": "markdown",
      "metadata": {
        "id": "-sh_4uK4oar7"
      },
      "source": [
        "Recommender system-\n",
        "Populality based recommender"
      ]
    },
    {
      "cell_type": "markdown",
      "metadata": {
        "id": "TF8grlhQqzmY"
      },
      "source": [
        "All we have to do is sort our products based on ratings, and display the top products of our list"
      ]
    },
    {
      "cell_type": "code",
      "metadata": {
        "colab": {
          "base_uri": "https://localhost:8080/"
        },
        "id": "IPcivSCNq2jD",
        "outputId": "13a12033-b9a1-40cd-8d34-d4cc0473feed"
      },
      "source": [
        "#Creating a metric to score or rate the products\n",
        "df_rating['Mean Rating'].mean()"
      ],
      "execution_count": 43,
      "outputs": [
        {
          "output_type": "execute_result",
          "data": {
            "text/plain": [
              "3.851366685217081"
            ]
          },
          "metadata": {},
          "execution_count": 43
        }
      ]
    },
    {
      "cell_type": "code",
      "metadata": {
        "colab": {
          "base_uri": "https://localhost:8080/"
        },
        "id": "XTYIea1TrR-Q",
        "outputId": "a9608a2a-e98b-40b5-f90c-444ecd3ba24a"
      },
      "source": [
        "df_rating['Number of Rating'].quantile(q=0.9)"
      ],
      "execution_count": 44,
      "outputs": [
        {
          "output_type": "execute_result",
          "data": {
            "text/plain": [
              "30.0"
            ]
          },
          "metadata": {},
          "execution_count": 44
        }
      ]
    },
    {
      "cell_type": "code",
      "metadata": {
        "id": "x5TAHlnOraKS"
      },
      "source": [
        "#we filter the productes that qualify in the chart  and put them in a new  dataframe\n",
        "df_filtered=df_rating[df_rating['Number of Rating']>df_rating['Number of Rating'].quantile(q=0.9)]"
      ],
      "execution_count": 45,
      "outputs": []
    },
    {
      "cell_type": "code",
      "metadata": {
        "colab": {
          "base_uri": "https://localhost:8080/"
        },
        "id": "7js3Z7LurqrR",
        "outputId": "cc7395f9-c9f9-42f0-ffab-57683ed64eab"
      },
      "source": [
        "df_filtered.shape"
      ],
      "execution_count": 46,
      "outputs": [
        {
          "output_type": "execute_result",
          "data": {
            "text/plain": [
              "(10995, 2)"
            ]
          },
          "metadata": {},
          "execution_count": 46
        }
      ]
    },
    {
      "cell_type": "code",
      "metadata": {
        "id": "AiYKM_kWryxv"
      },
      "source": [
        "def product_score(x):\n",
        "    v=x['Number of Rating']\n",
        "    m=df_rating['Number of Rating'].quantile(q=0.9)\n",
        "    R=x['Mean Rating']\n",
        "    C=df_rating['Mean Rating'].mean()\n",
        "    return ((R*v)/(v+m))+((C*m)/(v+m))"
      ],
      "execution_count": 47,
      "outputs": []
    },
    {
      "cell_type": "code",
      "metadata": {
        "colab": {
          "base_uri": "https://localhost:8080/"
        },
        "id": "90uKyc1TsFBe",
        "outputId": "4b8d5641-c0f8-4e43-9416-cf72e1d0b343"
      },
      "source": [
        "df_filtered['score']=df_filtered.apply(product_score, axis=1)"
      ],
      "execution_count": 48,
      "outputs": [
        {
          "output_type": "stream",
          "name": "stderr",
          "text": [
            "/usr/local/lib/python3.7/dist-packages/ipykernel_launcher.py:1: SettingWithCopyWarning: \n",
            "A value is trying to be set on a copy of a slice from a DataFrame.\n",
            "Try using .loc[row_indexer,col_indexer] = value instead\n",
            "\n",
            "See the caveats in the documentation: https://pandas.pydata.org/pandas-docs/stable/user_guide/indexing.html#returning-a-view-versus-a-copy\n",
            "  \"\"\"Entry point for launching an IPython kernel.\n"
          ]
        }
      ]
    },
    {
      "cell_type": "code",
      "metadata": {
        "colab": {
          "base_uri": "https://localhost:8080/",
          "height": 233
        },
        "id": "HyS_rsd2sVmt",
        "outputId": "5a03b67e-902c-4b17-ca79-ec5d3caa8b65"
      },
      "source": [
        "df_filtered.head()"
      ],
      "execution_count": 49,
      "outputs": [
        {
          "output_type": "execute_result",
          "data": {
            "text/html": [
              "<div>\n",
              "<style scoped>\n",
              "    .dataframe tbody tr th:only-of-type {\n",
              "        vertical-align: middle;\n",
              "    }\n",
              "\n",
              "    .dataframe tbody tr th {\n",
              "        vertical-align: top;\n",
              "    }\n",
              "\n",
              "    .dataframe thead th {\n",
              "        text-align: right;\n",
              "    }\n",
              "</style>\n",
              "<table border=\"1\" class=\"dataframe\">\n",
              "  <thead>\n",
              "    <tr style=\"text-align: right;\">\n",
              "      <th></th>\n",
              "      <th>Number of Rating</th>\n",
              "      <th>Mean Rating</th>\n",
              "      <th>score</th>\n",
              "    </tr>\n",
              "    <tr>\n",
              "      <th>productId</th>\n",
              "      <th></th>\n",
              "      <th></th>\n",
              "      <th></th>\n",
              "    </tr>\n",
              "  </thead>\n",
              "  <tbody>\n",
              "    <tr>\n",
              "      <th>0594481813</th>\n",
              "      <td>31</td>\n",
              "      <td>4.225806</td>\n",
              "      <td>4.041656</td>\n",
              "    </tr>\n",
              "    <tr>\n",
              "      <th>0972683275</th>\n",
              "      <td>1051</td>\n",
              "      <td>4.470980</td>\n",
              "      <td>4.453784</td>\n",
              "    </tr>\n",
              "    <tr>\n",
              "      <th>1400501466</th>\n",
              "      <td>250</td>\n",
              "      <td>3.560000</td>\n",
              "      <td>3.591218</td>\n",
              "    </tr>\n",
              "    <tr>\n",
              "      <th>1400501520</th>\n",
              "      <td>82</td>\n",
              "      <td>4.243902</td>\n",
              "      <td>4.138759</td>\n",
              "    </tr>\n",
              "    <tr>\n",
              "      <th>1400501776</th>\n",
              "      <td>139</td>\n",
              "      <td>3.884892</td>\n",
              "      <td>3.878941</td>\n",
              "    </tr>\n",
              "  </tbody>\n",
              "</table>\n",
              "</div>"
            ],
            "text/plain": [
              "            Number of Rating  Mean Rating     score\n",
              "productId                                          \n",
              "0594481813                31     4.225806  4.041656\n",
              "0972683275              1051     4.470980  4.453784\n",
              "1400501466               250     3.560000  3.591218\n",
              "1400501520                82     4.243902  4.138759\n",
              "1400501776               139     3.884892  3.878941"
            ]
          },
          "metadata": {},
          "execution_count": 49
        }
      ]
    },
    {
      "cell_type": "code",
      "metadata": {
        "id": "2eLrkbsXsoep"
      },
      "source": [
        "df_highscore=df_filtered.sort_values(by='score', ascending=False).head(10)"
      ],
      "execution_count": 50,
      "outputs": []
    },
    {
      "cell_type": "code",
      "metadata": {
        "colab": {
          "base_uri": "https://localhost:8080/",
          "height": 387
        },
        "id": "mtIVb7KKsxCq",
        "outputId": "7f724195-a23e-4b70-b6fd-1414ae04f5fb"
      },
      "source": [
        "df_highscore"
      ],
      "execution_count": 51,
      "outputs": [
        {
          "output_type": "execute_result",
          "data": {
            "text/html": [
              "<div>\n",
              "<style scoped>\n",
              "    .dataframe tbody tr th:only-of-type {\n",
              "        vertical-align: middle;\n",
              "    }\n",
              "\n",
              "    .dataframe tbody tr th {\n",
              "        vertical-align: top;\n",
              "    }\n",
              "\n",
              "    .dataframe thead th {\n",
              "        text-align: right;\n",
              "    }\n",
              "</style>\n",
              "<table border=\"1\" class=\"dataframe\">\n",
              "  <thead>\n",
              "    <tr style=\"text-align: right;\">\n",
              "      <th></th>\n",
              "      <th>Number of Rating</th>\n",
              "      <th>Mean Rating</th>\n",
              "      <th>score</th>\n",
              "    </tr>\n",
              "    <tr>\n",
              "      <th>productId</th>\n",
              "      <th></th>\n",
              "      <th></th>\n",
              "      <th></th>\n",
              "    </tr>\n",
              "  </thead>\n",
              "  <tbody>\n",
              "    <tr>\n",
              "      <th>B00125Y0NU</th>\n",
              "      <td>525</td>\n",
              "      <td>4.841905</td>\n",
              "      <td>4.788362</td>\n",
              "    </tr>\n",
              "    <tr>\n",
              "      <th>B000053HC5</th>\n",
              "      <td>166</td>\n",
              "      <td>4.945783</td>\n",
              "      <td>4.778270</td>\n",
              "    </tr>\n",
              "    <tr>\n",
              "      <th>B000B9RI14</th>\n",
              "      <td>2996</td>\n",
              "      <td>4.775701</td>\n",
              "      <td>4.766537</td>\n",
              "    </tr>\n",
              "    <tr>\n",
              "      <th>B000053HH5</th>\n",
              "      <td>347</td>\n",
              "      <td>4.841499</td>\n",
              "      <td>4.762708</td>\n",
              "    </tr>\n",
              "    <tr>\n",
              "      <th>B000I1X3W8</th>\n",
              "      <td>253</td>\n",
              "      <td>4.869565</td>\n",
              "      <td>4.761629</td>\n",
              "    </tr>\n",
              "    <tr>\n",
              "      <th>B000LRMS66</th>\n",
              "      <td>8715</td>\n",
              "      <td>4.756627</td>\n",
              "      <td>4.753521</td>\n",
              "    </tr>\n",
              "    <tr>\n",
              "      <th>B0019EHU8G</th>\n",
              "      <td>12285</td>\n",
              "      <td>4.754497</td>\n",
              "      <td>4.752297</td>\n",
              "    </tr>\n",
              "    <tr>\n",
              "      <th>B001BTCSI6</th>\n",
              "      <td>217</td>\n",
              "      <td>4.875576</td>\n",
              "      <td>4.751178</td>\n",
              "    </tr>\n",
              "    <tr>\n",
              "      <th>B00007GQLU</th>\n",
              "      <td>547</td>\n",
              "      <td>4.787934</td>\n",
              "      <td>4.739239</td>\n",
              "    </tr>\n",
              "    <tr>\n",
              "      <th>B00006I53X</th>\n",
              "      <td>261</td>\n",
              "      <td>4.839080</td>\n",
              "      <td>4.737254</td>\n",
              "    </tr>\n",
              "  </tbody>\n",
              "</table>\n",
              "</div>"
            ],
            "text/plain": [
              "            Number of Rating  Mean Rating     score\n",
              "productId                                          \n",
              "B00125Y0NU               525     4.841905  4.788362\n",
              "B000053HC5               166     4.945783  4.778270\n",
              "B000B9RI14              2996     4.775701  4.766537\n",
              "B000053HH5               347     4.841499  4.762708\n",
              "B000I1X3W8               253     4.869565  4.761629\n",
              "B000LRMS66              8715     4.756627  4.753521\n",
              "B0019EHU8G             12285     4.754497  4.752297\n",
              "B001BTCSI6               217     4.875576  4.751178\n",
              "B00007GQLU               547     4.787934  4.739239\n",
              "B00006I53X               261     4.839080  4.737254"
            ]
          },
          "metadata": {},
          "execution_count": 51
        }
      ]
    },
    {
      "cell_type": "code",
      "metadata": {
        "colab": {
          "base_uri": "https://localhost:8080/"
        },
        "id": "TSXHa3A_s8Nx",
        "outputId": "a4eb2e09-6ce0-42b3-c56e-fdf54b6e6590"
      },
      "source": [
        "df_highscore.index"
      ],
      "execution_count": 52,
      "outputs": [
        {
          "output_type": "execute_result",
          "data": {
            "text/plain": [
              "Index(['B00125Y0NU', 'B000053HC5', 'B000B9RI14', 'B000053HH5', 'B000I1X3W8',\n",
              "       'B000LRMS66', 'B0019EHU8G', 'B001BTCSI6', 'B00007GQLU', 'B00006I53X'],\n",
              "      dtype='object', name='productId')"
            ]
          },
          "metadata": {},
          "execution_count": 52
        }
      ]
    }
  ]
}